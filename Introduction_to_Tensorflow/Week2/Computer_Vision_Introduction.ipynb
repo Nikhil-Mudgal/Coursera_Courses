{
  "nbformat": 4,
  "nbformat_minor": 0,
  "metadata": {
    "colab": {
      "name": "Computer_Vision_Introduction.ipynb",
      "provenance": []
    },
    "kernelspec": {
      "name": "python3",
      "display_name": "Python 3"
    },
    "language_info": {
      "name": "python"
    }
  },
  "cells": [
    {
      "cell_type": "code",
      "execution_count": 1,
      "metadata": {
        "id": "DOG3oupgADLG",
        "colab": {
          "base_uri": "https://localhost:8080/"
        },
        "outputId": "796ca049-f241-4d21-c7a3-ddfca6d7879a"
      },
      "outputs": [
        {
          "output_type": "stream",
          "name": "stdout",
          "text": [
            "2.7.0\n"
          ]
        }
      ],
      "source": [
        "import tensorflow as tf\n",
        "from tensorflow import keras\n",
        "print(tf.__version__)"
      ]
    },
    {
      "cell_type": "code",
      "source": [
        "fashion_mnist = tf.keras.datasets.fashion_mnist\n",
        "(train_images,train_labels),(test_images, test_labels) = fashion_mnist.load_data()"
      ],
      "metadata": {
        "id": "_gQTMap9Kl2f"
      },
      "execution_count": 2,
      "outputs": []
    },
    {
      "cell_type": "markdown",
      "source": [
        "While building a neural network we should train our model on a large chunk of\n",
        "our data and keep the rest of the data for testing our model.\n",
        "\n",
        "Usually 70 : 30 but for large complicated dataa it may also be 98 : 2..."
      ],
      "metadata": {
        "id": "XjZJNJXQLYBi"
      }
    },
    {
      "cell_type": "code",
      "source": [
        "# model = keras.Sequential([\n",
        "#         keras.layers.Dense(1,input_shape=(28,28)), # converts the 28x28 square into\n",
        "#                                                  # simple linear array\n",
        "#         keras.layers.Dense(128,activation = tf.nn.relu),\n",
        "#         keras.layers.Dense(10,activation = \"softmax\")\n",
        "# ])\n",
        "# interesting stuff happens in the hidden layer\n",
        "# has 128 neurons in it that can be assumed as varaible of a function such as \n",
        "# below :- \n",
        "# y = W1x1 + W2x2....+W128x128 == 9"
      ],
      "metadata": {
        "id": "OR40LaGuM_Ub"
      },
      "execution_count": 3,
      "outputs": []
    },
    {
      "cell_type": "code",
      "source": [
        "import numpy as np \n",
        "import matplotlib.pyplot as plt\n",
        "\n",
        "index = 0\n",
        "# set number of characters per row when printing \n",
        "np.set_printoptions(linewidth = 320)\n",
        "\n",
        "#Print the labels and the image\n",
        "\n",
        "print(f'Label: {train_labels[index]}')\n",
        "print(f'\\nImage Pixel Array: \\n {train_images[index]}')\n",
        "\n",
        "plt.imshow(train_images[index])\n",
        "\n"
      ],
      "metadata": {
        "id": "b6u1Q_bdbeqe",
        "colab": {
          "base_uri": "https://localhost:8080/",
          "height": 840
        },
        "outputId": "dc684ce6-8f49-4468-c6d3-10a01b0195bd"
      },
      "execution_count": 4,
      "outputs": [
        {
          "output_type": "stream",
          "name": "stdout",
          "text": [
            "Label: 9\n",
            "\n",
            "Image Pixel Array: \n",
            " [[  0   0   0   0   0   0   0   0   0   0   0   0   0   0   0   0   0   0   0   0   0   0   0   0   0   0   0   0]\n",
            " [  0   0   0   0   0   0   0   0   0   0   0   0   0   0   0   0   0   0   0   0   0   0   0   0   0   0   0   0]\n",
            " [  0   0   0   0   0   0   0   0   0   0   0   0   0   0   0   0   0   0   0   0   0   0   0   0   0   0   0   0]\n",
            " [  0   0   0   0   0   0   0   0   0   0   0   0   1   0   0  13  73   0   0   1   4   0   0   0   0   1   1   0]\n",
            " [  0   0   0   0   0   0   0   0   0   0   0   0   3   0  36 136 127  62  54   0   0   0   1   3   4   0   0   3]\n",
            " [  0   0   0   0   0   0   0   0   0   0   0   0   6   0 102 204 176 134 144 123  23   0   0   0   0  12  10   0]\n",
            " [  0   0   0   0   0   0   0   0   0   0   0   0   0   0 155 236 207 178 107 156 161 109  64  23  77 130  72  15]\n",
            " [  0   0   0   0   0   0   0   0   0   0   0   1   0  69 207 223 218 216 216 163 127 121 122 146 141  88 172  66]\n",
            " [  0   0   0   0   0   0   0   0   0   1   1   1   0 200 232 232 233 229 223 223 215 213 164 127 123 196 229   0]\n",
            " [  0   0   0   0   0   0   0   0   0   0   0   0   0 183 225 216 223 228 235 227 224 222 224 221 223 245 173   0]\n",
            " [  0   0   0   0   0   0   0   0   0   0   0   0   0 193 228 218 213 198 180 212 210 211 213 223 220 243 202   0]\n",
            " [  0   0   0   0   0   0   0   0   0   1   3   0  12 219 220 212 218 192 169 227 208 218 224 212 226 197 209  52]\n",
            " [  0   0   0   0   0   0   0   0   0   0   6   0  99 244 222 220 218 203 198 221 215 213 222 220 245 119 167  56]\n",
            " [  0   0   0   0   0   0   0   0   0   4   0   0  55 236 228 230 228 240 232 213 218 223 234 217 217 209  92   0]\n",
            " [  0   0   1   4   6   7   2   0   0   0   0   0 237 226 217 223 222 219 222 221 216 223 229 215 218 255  77   0]\n",
            " [  0   3   0   0   0   0   0   0   0  62 145 204 228 207 213 221 218 208 211 218 224 223 219 215 224 244 159   0]\n",
            " [  0   0   0   0  18  44  82 107 189 228 220 222 217 226 200 205 211 230 224 234 176 188 250 248 233 238 215   0]\n",
            " [  0  57 187 208 224 221 224 208 204 214 208 209 200 159 245 193 206 223 255 255 221 234 221 211 220 232 246   0]\n",
            " [  3 202 228 224 221 211 211 214 205 205 205 220 240  80 150 255 229 221 188 154 191 210 204 209 222 228 225   0]\n",
            " [ 98 233 198 210 222 229 229 234 249 220 194 215 217 241  65  73 106 117 168 219 221 215 217 223 223 224 229  29]\n",
            " [ 75 204 212 204 193 205 211 225 216 185 197 206 198 213 240 195 227 245 239 223 218 212 209 222 220 221 230  67]\n",
            " [ 48 203 183 194 213 197 185 190 194 192 202 214 219 221 220 236 225 216 199 206 186 181 177 172 181 205 206 115]\n",
            " [  0 122 219 193 179 171 183 196 204 210 213 207 211 210 200 196 194 191 195 191 198 192 176 156 167 177 210  92]\n",
            " [  0   0  74 189 212 191 175 172 175 181 185 188 189 188 193 198 204 209 210 210 211 188 188 194 192 216 170   0]\n",
            " [  2   0   0   0  66 200 222 237 239 242 246 243 244 221 220 193 191 179 182 182 181 176 166 168  99  58   0   0]\n",
            " [  0   0   0   0   0   0   0  40  61  44  72  41  35   0   0   0   0   0   0   0   0   0   0   0   0   0   0   0]\n",
            " [  0   0   0   0   0   0   0   0   0   0   0   0   0   0   0   0   0   0   0   0   0   0   0   0   0   0   0   0]\n",
            " [  0   0   0   0   0   0   0   0   0   0   0   0   0   0   0   0   0   0   0   0   0   0   0   0   0   0   0   0]]\n"
          ]
        },
        {
          "output_type": "execute_result",
          "data": {
            "text/plain": [
              "<matplotlib.image.AxesImage at 0x7efd41db8510>"
            ]
          },
          "metadata": {},
          "execution_count": 4
        },
        {
          "output_type": "display_data",
          "data": {
            "image/png": "[encoded data removed]",
            "text/plain": [
              "<Figure size 432x288 with 1 Axes>"
            ]
          },
          "metadata": {
            "needs_background": "light"
          }
        }
      ]
    },
    {
      "cell_type": "markdown",
      "source": [
        "While training a neural network especially\n",
        "in image processing, for various reasons it will usually learn better if we scale all values to between 0 and 1. In python we can normalize without looping."
      ],
      "metadata": {
        "id": "FO0XBUwqI2MT"
      }
    },
    {
      "cell_type": "code",
      "source": [
        "# Normalizing -- Unity based Normalization\n",
        "train_images = train_images/255.0\n",
        "test_images = test_images/255.0"
      ],
      "metadata": {
        "id": "ZOynNwlXIaRy"
      },
      "execution_count": 5,
      "outputs": []
    },
    {
      "cell_type": "code",
      "source": [
        "model = tf.keras.models.Sequential([tf.keras.layers.Flatten(),\n",
        "                             tf.keras.layers.Dense(128, activation = tf.nn.relu),\n",
        "                             tf.keras.layers.Dense(128,activation= tf.nn.softmax)])"
      ],
      "metadata": {
        "id": "73VU4StYLRsQ"
      },
      "execution_count": 6,
      "outputs": []
    },
    {
      "cell_type": "markdown",
      "source": [
        "Flatten: Remember earlier where our images were a 28x28 pixel matrix when you printed them out? Flatten just takes that square and turns it into a 1-dimensional array.\n",
        "\n",
        "Dense: Adds a layer of neurons\n",
        "\n",
        "Each layer of neurons need an activation function to tell them what to do. There are a lot of options, but just use these for now:\n",
        "\n",
        "ReLU effectively means:\n",
        "\n",
        "if x > 0: \n",
        "  return x\n",
        "\n",
        "else: \n",
        "  return 0\n",
        "In other words, it it only passes values 0 or greater to the next layer in the network.\n",
        "\n",
        "Softmax takes a list of values and scales these so the sum of all elements will be equal to 1. When applied to model outputs, you can think of the scaled values as the probability for that class. For example, in your classification model which has 10 units in the output dense layer, having the highest value at index = 4 means that the model is most confident that the input clothing image is a coat. If it is at index = 5, then it is a sandal, and so forth"
      ],
      "metadata": {
        "id": "UoHhDlMbae3c"
      }
    },
    {
      "cell_type": "code",
      "source": [
        "# Declaring the inputs and converting them to tensors \n",
        "inputs = np.array([1.0,3.0,4.0,2.0])\n",
        "inputs = tf.convert_to_tensor(inputs)\n",
        "# inputs = tf.constant(inputs) # this and above have no difference ??\n",
        "print(f'input to softmax function: {inputs.numpy()}')\n",
        "\n",
        "# feeding the inputs to a softmax actiavation function\n",
        "outputs = tf.nn.softmax(inputs)\n",
        "print(f'output fo the softmax function: {outputs.numpy()}')\n",
        "\n",
        "# Get the sum of all values after the softmax\n",
        "sum = tf.reduce_sum(outputs)\n",
        "print(f'sum of outputs: {sum}')\n",
        "\n",
        "# Get the index with highest value \n",
        "prediction = np.argmax(outputs)\n",
        "print (f'class with highest probability: {prediction}')\n"
      ],
      "metadata": {
        "colab": {
          "base_uri": "https://localhost:8080/"
        },
        "id": "HspIl8VMciBU",
        "outputId": "e2bfd591-2875-4e82-fcd1-b0bbedc20768"
      },
      "execution_count": 7,
      "outputs": [
        {
          "output_type": "stream",
          "name": "stdout",
          "text": [
            "input to softmax function: [1. 3. 4. 2.]\n",
            "output fo the softmax function: [0.0320586  0.23688282 0.64391426 0.08714432]\n",
            "sum of outputs: 1.0\n",
            "class with highest probability: 2\n"
          ]
        }
      ]
    },
    {
      "cell_type": "code",
      "source": [
        "model.compile(optimizer = tf.optimizers.Adam(),\n",
        "              loss = \"sparse_categorical_crossentropy\",\n",
        "              metrics = ['accuracy'])\n",
        "\n",
        "model.fit(train_images,train_labels,epochs = 5)"
      ],
      "metadata": {
        "colab": {
          "base_uri": "https://localhost:8080/"
        },
        "id": "M9c-7uwVf6KV",
        "outputId": "286dbc21-fea5-49dc-ca8b-cc839ddfd12b"
      },
      "execution_count": 8,
      "outputs": [
        {
          "output_type": "stream",
          "name": "stdout",
          "text": [
            "Epoch 1/5\n",
            "1875/1875 [==============================] - 4s 2ms/step - loss: 0.5309 - accuracy: 0.8194\n",
            "Epoch 2/5\n",
            "1875/1875 [==============================] - 4s 2ms/step - loss: 0.3884 - accuracy: 0.8603\n",
            "Epoch 3/5\n",
            "1875/1875 [==============================] - 4s 2ms/step - loss: 0.3476 - accuracy: 0.8742\n",
            "Epoch 4/5\n",
            "1875/1875 [==============================] - 4s 2ms/step - loss: 0.3218 - accuracy: 0.8826\n",
            "Epoch 5/5\n",
            "1875/1875 [==============================] - 4s 2ms/step - loss: 0.3037 - accuracy: 0.8890\n"
          ]
        },
        {
          "output_type": "execute_result",
          "data": {
            "text/plain": [
              "<keras.callbacks.History at 0x7efd41d3c310>"
            ]
          },
          "metadata": {},
          "execution_count": 8
        }
      ]
    },
    {
      "cell_type": "code",
      "source": [
        "model.evaluate(test_images,test_labels)"
      ],
      "metadata": {
        "colab": {
          "base_uri": "https://localhost:8080/"
        },
        "id": "Jd4SvQHRixP4",
        "outputId": "df8283f0-4dd4-4369-bf37-035e417f1ed3"
      },
      "execution_count": 9,
      "outputs": [
        {
          "output_type": "stream",
          "name": "stdout",
          "text": [
            "313/313 [==============================] - 1s 1ms/step - loss: 0.3664 - accuracy: 0.8694\n"
          ]
        },
        {
          "output_type": "execute_result",
          "data": {
            "text/plain": [
              "[0.36644652485847473, 0.8694000244140625]"
            ]
          },
          "metadata": {},
          "execution_count": 9
        }
      ]
    },
    {
      "cell_type": "markdown",
      "source": [
        "# Exploration Exercises"
      ],
      "metadata": {
        "id": "5AQ0zwMpo7GC"
      }
    },
    {
      "cell_type": "markdown",
      "source": [
        "### Exercise 1:"
      ],
      "metadata": {
        "id": "b8KgsFoJpDYL"
      }
    },
    {
      "cell_type": "code",
      "source": [
        "classification = model.predict(test_images)\n",
        "print (classification[0])"
      ],
      "metadata": {
        "colab": {
          "base_uri": "https://localhost:8080/"
        },
        "id": "fI1ry0TRpHiL",
        "outputId": "5a30e1ef-86d6-492f-e2dc-da2b849ff10b"
      },
      "execution_count": 10,
      "outputs": [
        {
          "output_type": "stream",
          "name": "stdout",
          "text": [
            "[4.70472105e-06 2.00387014e-08 1.01671753e-06 3.32340981e-08 1.33265598e-06 9.76336561e-03 3.36536177e-05 1.09858448e-02 5.55798651e-05 9.79154468e-01 4.45271885e-13 4.28545518e-13 5.02243267e-13 2.22409629e-13 4.42461345e-12 8.87565282e-12 1.10493776e-12 5.10637214e-13 5.70280720e-14 5.05962590e-12 7.57262579e-13\n",
            " 1.11792043e-11 2.96864226e-12 4.21091374e-12 2.29267668e-12 9.96823934e-13 7.48991841e-12 1.33948137e-12 1.35397899e-12 6.01489507e-13 2.10094290e-12 1.97947526e-11 4.26048563e-12 1.87682470e-13 3.61359163e-13 7.05787100e-13 3.30577498e-13 2.75831051e-12 5.57036795e-12 3.51123080e-12 4.18155614e-12 3.12804253e-13\n",
            " 4.59513287e-13 1.67338826e-13 2.50859793e-12 1.57277739e-12 6.32127543e-14 1.15496501e-12 3.21446076e-13 1.82403016e-11 3.02047829e-13 2.86666686e-13 4.88005253e-12 1.43643994e-12 1.25429582e-12 7.66636266e-13 4.85698287e-13 6.98362809e-14 6.96035306e-15 2.59535611e-13 2.48259773e-13 4.78202926e-13 1.39026572e-12\n",
            " 3.66252520e-13 1.23990385e-14 2.06605932e-13 1.31682458e-12 6.63635770e-12 3.49533933e-13 3.87235643e-12 1.32122151e-13 3.93838174e-12 7.49934891e-13 3.59567465e-13 6.21436019e-12 1.26410384e-13 5.07952038e-14 3.03493884e-13 5.72869118e-13 7.41127559e-12 2.74915941e-13 8.55381629e-13 3.52072484e-13 3.82407517e-12\n",
            " 2.20162647e-12 6.34255560e-14 2.97089501e-13 1.50909038e-12 9.60480610e-14 2.27358442e-13 3.27942372e-13 4.28519389e-13 1.88368174e-13 2.49790293e-12 4.61838196e-13 2.61916655e-13 7.57239052e-14 4.97878756e-13 9.20024907e-13 8.33675522e-13 1.15218393e-12 3.25200424e-13 1.62753112e-13 2.99542010e-12 9.19740629e-13\n",
            " 2.03150105e-12 1.09219827e-12 1.29820059e-12 2.96145985e-12 3.75706974e-12 1.40035216e-12 3.25621257e-13 5.58362167e-12 1.71937619e-13 1.29839309e-13 2.34782506e-12 2.21311186e-12 3.13134799e-14 4.87421041e-12 1.73185034e-13 5.82714595e-13 2.60670717e-13 8.34521905e-13 5.90839769e-13 2.18272638e-13 3.10974221e-14\n",
            " 1.71058458e-12 1.72782600e-12]\n"
          ]
        }
      ]
    },
    {
      "cell_type": "code",
      "source": [
        "print(test_labels[0])"
      ],
      "metadata": {
        "colab": {
          "base_uri": "https://localhost:8080/"
        },
        "id": "dROCguzUqK-E",
        "outputId": "825490f2-ec5c-4d65-b7bc-843087ec6219"
      },
      "execution_count": 11,
      "outputs": [
        {
          "output_type": "stream",
          "name": "stdout",
          "text": [
            "9\n"
          ]
        }
      ]
    },
    {
      "cell_type": "markdown",
      "source": [
        "The output of the model is a list of 10 numbers. These numbers are a probability that the value being classified is the corresponding value (https://github.com/zalandoresearch/fashion-mnist#labels), i.e. the first value in the list is the probability that the image is of a '0' (T-shirt/top), the next is a '1' (Trouser) etc. Notice that they are all VERY LOW probabilities. For index 9 (Ankle boot), the probability was in the 90's, i.e. the neural network is telling us that the image is most likely an ankle boot.\n",
        "\n",
        "\n",
        "\n",
        "Both the list and the labels are 0 based, so the ankle boot having label 9 means that it is the 10th of the 10 classes. The list having the 10th element being the highest value means that the Neural Network has predicted that the item it is classifying is most likely an ankle boot\n",
        "\n",
        "\n"
      ],
      "metadata": {
        "id": "Q6QOyBuJqN3X"
      }
    },
    {
      "cell_type": "code",
      "source": [
        "mnist = tf.keras.datasets.fashion_mnist\n",
        "\n",
        "(training_images,training_labels),(testing_images,testing_labels) = mnist.load_data()\n",
        "\n",
        "training_images = training_images/ 255.0\n",
        "test_images = test_images/255.0\n",
        "\n",
        "model = tf.keras.models.Sequential([tf.keras.layers.Flatten(),\n",
        "                                    tf.keras.layers.Dense(1024,activation=tf.nn.relu),\n",
        "                                    tf.keras.layers.Dense(10,activation = tf.nn.softmax)])\n",
        "model.compile(optimizer = \"adam\",\n",
        "              loss = \"sparse_categorical_crossentropy\")\n",
        "\n",
        "model.fit(training_images,training_labels,epochs = 5)\n",
        "\n",
        "model.evaluate(testing_images,testing_labels)\n",
        "\n",
        "classification = model.predict(testing_images)\n",
        "\n",
        "print(classification[0])\n",
        "\n",
        "print(test_labels[0])\n"
      ],
      "metadata": {
        "colab": {
          "base_uri": "https://localhost:8080/"
        },
        "id": "mdnRxzkmqoNq",
        "outputId": "a22e1f34-77c2-4fdb-e4f7-8d1af06365c0"
      },
      "execution_count": 12,
      "outputs": [
        {
          "output_type": "stream",
          "name": "stdout",
          "text": [
            "Epoch 1/5\n",
            "1875/1875 [==============================] - 11s 6ms/step - loss: 0.4721\n",
            "Epoch 2/5\n",
            "1875/1875 [==============================] - 10s 5ms/step - loss: 0.3571\n",
            "Epoch 3/5\n",
            "1875/1875 [==============================] - 10s 5ms/step - loss: 0.3205\n",
            "Epoch 4/5\n",
            "1875/1875 [==============================] - 10s 6ms/step - loss: 0.2967\n",
            "Epoch 5/5\n",
            "1875/1875 [==============================] - 10s 6ms/step - loss: 0.2795\n",
            "313/313 [==============================] - 1s 3ms/step - loss: 67.2830\n",
            "[0. 0. 0. 0. 0. 0. 0. 0. 0. 1.]\n",
            "9\n"
          ]
        }
      ]
    },
    {
      "cell_type": "markdown",
      "source": [
        "#### What would happen if you remove the Flatten() layer. Why do you think that's the case?\n",
        "You get an error about the shape of the data. It may seem vague right now, but it reinforces the rule of thumb that the first layer in your network should be the same shape as your data. Right now our data is 28x28 images, and 28 layers of 28 neurons would be infeasible, so it makes more sense to 'flatten' that 28,28 into a 784x1. Instead of writng all the code to handle that ourselves, we add the Flatten() layer at the begining, and when the arrays are loaded into the model later, they'll automatically be flattened for us."
      ],
      "metadata": {
        "id": "t4WCtJMVrGQV"
      }
    },
    {
      "cell_type": "markdown",
      "source": [
        "#### Consider the final (output) layers. Why are there 10 of them? What would happen if you had a different amount than 10? For example, try training the network with 5.\n",
        "\n",
        "We get an error as soon as it finds an unexpected value. Another rule of thumb -- the number of neurons in the last layer should match the number of classes you are classifying for. In this case it's the digits 0-9, so there are 10 of them, hence you should have 10 neurons in your final layer.\n",
        "\n"
      ],
      "metadata": {
        "id": "iyz9mX7Bsop8"
      }
    },
    {
      "cell_type": "markdown",
      "source": [
        "#### Consider the effects of additional layers in the network. What will happen if you add another layer between the one with 512 and the final layer with 10.\n",
        "\n",
        "There isn't a significant impact -- because this is relatively simple data. For far more complex data (including color images to be classified as flowers that you'll see in the next lesson), extra layers are often necessary.\n",
        "\n"
      ],
      "metadata": {
        "id": "a69323g3s-dU"
      }
    },
    {
      "cell_type": "markdown",
      "source": [
        "If we train our model for a significantly longer number of epochs. One of the dire side effects we may encounter is overfitting the model. An overfitted model would see too good to be true. It would work marvellously on our training dataset but upon model evaluation in testing case we would see a very poor performance. This is a sign of \"Overfitting\"."
      ],
      "metadata": {
        "id": "ypuR35SGtJsa"
      }
    },
    {
      "cell_type": "code",
      "source": [
        "mnist = tf.keras.datasets.fashion_mnist\n",
        "\n",
        "(training_images,training_labels),(testing_images,testing_labels) = mnist.load_data()\n",
        "\n",
        "# training_images = training_images/ 255.0\n",
        "# test_images = test_images/255.0\n",
        "\n",
        "model = tf.keras.models.Sequential([tf.keras.layers.Flatten(),\n",
        "                                    tf.keras.layers.Dense(1024,activation=tf.nn.relu),\n",
        "                                    tf.keras.layers.Dense(10,activation = tf.nn.softmax)])\n",
        "model.compile(optimizer = \"adam\",\n",
        "              loss = \"sparse_categorical_crossentropy\")\n",
        "\n",
        "model.fit(training_images,training_labels,epochs = 5)\n",
        "\n",
        "model.evaluate(testing_images,testing_labels)\n",
        "\n",
        "classification = model.predict(testing_images)\n",
        "\n",
        "print(classification[0])\n",
        "\n",
        "print(test_labels[0])"
      ],
      "metadata": {
        "colab": {
          "base_uri": "https://localhost:8080/"
        },
        "id": "MBnF7K-Etj64",
        "outputId": "4be20957-e206-489a-bf54-c1bb8c2f5653"
      },
      "execution_count": 13,
      "outputs": [
        {
          "output_type": "stream",
          "name": "stdout",
          "text": [
            "Epoch 1/5\n",
            "1875/1875 [==============================] - 11s 6ms/step - loss: 4.7508\n",
            "Epoch 2/5\n",
            "1875/1875 [==============================] - 11s 6ms/step - loss: 0.5251\n",
            "Epoch 3/5\n",
            "1875/1875 [==============================] - 11s 6ms/step - loss: 0.5113\n",
            "Epoch 4/5\n",
            "1875/1875 [==============================] - 11s 6ms/step - loss: 0.4946\n",
            "Epoch 5/5\n",
            "1875/1875 [==============================] - 11s 6ms/step - loss: 0.4869\n",
            "313/313 [==============================] - 1s 3ms/step - loss: 0.5839\n",
            "[4.1170426e-15 2.8364510e-15 2.8173149e-19 1.1015339e-14 5.5206898e-18 2.2126460e-02 3.0195544e-18 3.8954716e-03 1.3268164e-11 9.7397804e-01]\n",
            "9\n"
          ]
        }
      ]
    },
    {
      "cell_type": "code",
      "source": [
        "## Using callback class\n",
        "class myCallback(tf.keras.callbacks.Callback):\n",
        "  def on_epoch_end(self,epoch,logs={}):\n",
        "    '''\n",
        "    Halts the training at 60 percent accuracy so that we dont have find the \n",
        "    optimal value ourselves.\n",
        "\n",
        "    Args :- \n",
        "    epochs (integer) - index of epochs is required (though unused in def)\n",
        "    logs(dict) - metric results from the training epochs\n",
        "    '''\n",
        "    # Check Accuracy\n",
        "    if (logs.get(\"loss\") < 0.6):\n",
        "      #stop if threshold is met\n",
        "      print (\"\\nLoss is lower than 0.4 so cancelling training!\")\n",
        "      self.model.stop_training = True \n",
        "\n",
        "#Instantiate class\n",
        "callbacks = myCallback()\n"
      ],
      "metadata": {
        "id": "g1Fa9CeUv8Jp"
      },
      "execution_count": 14,
      "outputs": []
    },
    {
      "cell_type": "code",
      "source": [
        "training_images = training_images/ 255.0\n",
        "test_images = test_images/255.0\n",
        "model = tf.keras.models.Sequential([tf.keras.layers.Flatten(),\n",
        "                                    tf.keras.layers.Dense(1024,activation=tf.nn.relu),\n",
        "                                    tf.keras.layers.Dense(10,activation = tf.nn.softmax)])\n",
        "model.compile(optimizer = \"adam\",\n",
        "              loss = \"sparse_categorical_crossentropy\")"
      ],
      "metadata": {
        "id": "9cURjjCs2pPe"
      },
      "execution_count": 15,
      "outputs": []
    },
    {
      "cell_type": "code",
      "source": [
        "model.fit(training_images,training_labels,epochs = 5,callbacks=[callbacks])\n",
        "# We have setup the callback on epoch end even though our loss is less than 40 \n",
        "# percent by the 2nd step. and it is a good practice to do it as such.."
      ],
      "metadata": {
        "colab": {
          "base_uri": "https://localhost:8080/"
        },
        "id": "rYaW8YaT3WMR",
        "outputId": "e5ccf794-f6ae-40a5-c4fa-89d84875b6e5"
      },
      "execution_count": 16,
      "outputs": [
        {
          "output_type": "stream",
          "name": "stdout",
          "text": [
            "Epoch 1/5\n",
            "1868/1875 [============================>.] - ETA: 0s - loss: 0.4720\n",
            "Loss is lower than 0.4 so cancelling training!\n",
            "1875/1875 [==============================] - 11s 6ms/step - loss: 0.4713\n"
          ]
        },
        {
          "output_type": "execute_result",
          "data": {
            "text/plain": [
              "<keras.callbacks.History at 0x7efd3d454b90>"
            ]
          },
          "metadata": {},
          "execution_count": 16
        }
      ]
    },
    {
      "cell_type": "code",
      "source": [
        ""
      ],
      "metadata": {
        "id": "ssjF0WcX3xUP"
      },
      "execution_count": 16,
      "outputs": []
    }
  ]
}